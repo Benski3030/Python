{
 "cells": [
  {
   "cell_type": "markdown",
   "metadata": {},
   "source": [
    "# Cohort Analysis in Python\n",
    "\n",
    "Excellent content created by Greg Reda @\n",
    "http://www.gregreda.com/2015/08/23/cohort-analysis-with-python/\n",
    "\n",
    "A cohort is a group of users who share something in common, be it their sign-up date, first purchase month, birth date, acquisition channel, etc. Cohort analysis is the method by which these groups are tracked over time, helping you spot trends, understand repeat behaviors (purchases, engagement, amount spent, etc.), and monitor your customer and revenue retention.\n",
    "\n",
    "It’s common for cohorts to be created based on a customer’s first usage of the platform, where \"usage\" is dependent on your business’ key metrics. For Uber or Lyft, usage would be booking a trip through one of their apps. For GrubHub, it’s ordering some food. For AirBnB, it’s booking a stay.\n",
    "\n",
    "With these companies, a purchase is at their core, be it taking a trip or ordering dinner — their revenues are tied to their users’ purchase behavior.\n",
    "\n",
    "In others, a purchase is not central to the business model and the business is more interested in \"engagement\" with the platform. Facebook and Twitter are examples of this - are you visiting their sites every day? Are you performing some action on them - maybe a \"like\" on Facebook or a \"favorite\" on a tweet?1\n",
    "\n",
    "When building a cohort analysis, it’s important to consider the relationship between the event or interaction you’re tracking and its relationship to your business model.\n",
    "\n",
    "Cohort analysis can be helpful when it comes to understanding your business’ health and \"stickiness\" - the loyalty of your customers. Stickiness is critical since it’s far cheaper and easier to keep a current customer than to acquire a new one. For startups, it’s also a key indicator of product-market fit.\n",
    "\n",
    "Additionally, your product evolves over time. New features are added and removed, the design changes, etc. Observing individual groups over time is a starting point to understanding how these changes affect user behavior.\n",
    "\n",
    "It’s also a good way to visualize your user retention/churn as well as formulating a basic understanding of their lifetime value.\n"
   ]
  },
  {
   "cell_type": "markdown",
   "metadata": {},
   "source": [
    "**Import Libraries**\n",
    "In this example we will be using three common libraries:\n",
    "1. `pandas` for data management\n",
    "2. `numpy` for numeric computation\n",
    "3. `matplotlib` and `seaborne` for visualization"
   ]
  },
  {
   "cell_type": "code",
   "execution_count": 1,
   "metadata": {
    "collapsed": false
   },
   "outputs": [
    {
     "name": "stderr",
     "output_type": "stream",
     "text": [
      "C:\\Users\\bharder\\AppData\\Local\\Continuum\\Anaconda\\lib\\site-packages\\matplotlib\\__init__.py:872: UserWarning: axes.color_cycle is deprecated and replaced with axes.prop_cycle; please use the latter.\n",
      "  warnings.warn(self.msg_depr % (key, alt_key))\n"
     ]
    }
   ],
   "source": [
    "import pandas as pd\n",
    "import numpy as np\n",
    "import matplotlib.pyplot as plt\n",
    "import matplotlib as mpl\n",
    "import seaborn as sns\n",
    "%matplotlib inline"
   ]
  },
  {
   "cell_type": "markdown",
   "metadata": {},
   "source": [
    "**Read in the data and check it out**\n",
    "The data is read in using the standard `pandas read_csv` function with no additional arguments."
   ]
  },
  {
   "cell_type": "code",
   "execution_count": 2,
   "metadata": {
    "collapsed": false
   },
   "outputs": [
    {
     "name": "stdout",
     "output_type": "stream",
     "text": [
      "<class 'pandas.core.frame.DataFrame'>\n",
      "RangeIndex: 2891 entries, 0 to 2890\n",
      "Data columns (total 7 columns):\n",
      "OrderId         2891 non-null int64\n",
      "OrderDate       2891 non-null object\n",
      "UserId          2891 non-null int64\n",
      "TotalCharges    2891 non-null float64\n",
      "CommonId        2891 non-null object\n",
      "PupId           2891 non-null int64\n",
      "PickupDate      2891 non-null object\n",
      "dtypes: float64(1), int64(3), object(3)\n",
      "memory usage: 124.3+ KB\n"
     ]
    }
   ],
   "source": [
    "df = pd.read_csv(r'C:\\Users\\foo\\cohortdemo.csv') #read in data\n",
    "df.info() #info on the dataframe, similar to str in R"
   ]
  },
  {
   "cell_type": "code",
   "execution_count": 3,
   "metadata": {
    "collapsed": false
   },
   "outputs": [
    {
     "data": {
      "text/html": [
       "<div>\n",
       "<table border=\"1\" class=\"dataframe\">\n",
       "  <thead>\n",
       "    <tr style=\"text-align: right;\">\n",
       "      <th></th>\n",
       "      <th>OrderId</th>\n",
       "      <th>OrderDate</th>\n",
       "      <th>UserId</th>\n",
       "      <th>TotalCharges</th>\n",
       "      <th>CommonId</th>\n",
       "      <th>PupId</th>\n",
       "      <th>PickupDate</th>\n",
       "    </tr>\n",
       "  </thead>\n",
       "  <tbody>\n",
       "    <tr>\n",
       "      <th>0</th>\n",
       "      <td>262</td>\n",
       "      <td>1/11/2009</td>\n",
       "      <td>47</td>\n",
       "      <td>50.67</td>\n",
       "      <td>TRQKD</td>\n",
       "      <td>2</td>\n",
       "      <td>1/12/2009</td>\n",
       "    </tr>\n",
       "    <tr>\n",
       "      <th>1</th>\n",
       "      <td>278</td>\n",
       "      <td>1/20/2009</td>\n",
       "      <td>47</td>\n",
       "      <td>26.60</td>\n",
       "      <td>4HH2S</td>\n",
       "      <td>3</td>\n",
       "      <td>1/20/2009</td>\n",
       "    </tr>\n",
       "    <tr>\n",
       "      <th>2</th>\n",
       "      <td>294</td>\n",
       "      <td>2/3/2009</td>\n",
       "      <td>47</td>\n",
       "      <td>38.71</td>\n",
       "      <td>3TRDC</td>\n",
       "      <td>2</td>\n",
       "      <td>2/4/2009</td>\n",
       "    </tr>\n",
       "    <tr>\n",
       "      <th>3</th>\n",
       "      <td>301</td>\n",
       "      <td>2/6/2009</td>\n",
       "      <td>47</td>\n",
       "      <td>53.38</td>\n",
       "      <td>NGAZJ</td>\n",
       "      <td>2</td>\n",
       "      <td>2/9/2009</td>\n",
       "    </tr>\n",
       "    <tr>\n",
       "      <th>4</th>\n",
       "      <td>302</td>\n",
       "      <td>2/6/2009</td>\n",
       "      <td>47</td>\n",
       "      <td>14.28</td>\n",
       "      <td>FFYHD</td>\n",
       "      <td>2</td>\n",
       "      <td>2/9/2009</td>\n",
       "    </tr>\n",
       "  </tbody>\n",
       "</table>\n",
       "</div>"
      ],
      "text/plain": [
       "   OrderId  OrderDate  UserId  TotalCharges CommonId  PupId PickupDate\n",
       "0      262  1/11/2009      47         50.67    TRQKD      2  1/12/2009\n",
       "1      278  1/20/2009      47         26.60    4HH2S      3  1/20/2009\n",
       "2      294   2/3/2009      47         38.71    3TRDC      2   2/4/2009\n",
       "3      301   2/6/2009      47         53.38    NGAZJ      2   2/9/2009\n",
       "4      302   2/6/2009      47         14.28    FFYHD      2   2/9/2009"
      ]
     },
     "execution_count": 3,
     "metadata": {},
     "output_type": "execute_result"
    }
   ],
   "source": [
    "df.head() #checkout the head of the data"
   ]
  },
  {
   "cell_type": "markdown",
   "metadata": {},
   "source": [
    "**Clean data and drop uneccessary columns**\n",
    "\n",
    "I use pandas `to_datetime` to automagically turn the order data into a data type.  Then drop the remaining columns as they do not provide any value in this context.  "
   ]
  },
  {
   "cell_type": "code",
   "execution_count": 4,
   "metadata": {
    "collapsed": false
   },
   "outputs": [
    {
     "data": {
      "text/html": [
       "<div>\n",
       "<table border=\"1\" class=\"dataframe\">\n",
       "  <thead>\n",
       "    <tr style=\"text-align: right;\">\n",
       "      <th></th>\n",
       "      <th>OrderId</th>\n",
       "      <th>OrderDate</th>\n",
       "      <th>UserId</th>\n",
       "      <th>TotalCharges</th>\n",
       "    </tr>\n",
       "  </thead>\n",
       "  <tbody>\n",
       "    <tr>\n",
       "      <th>0</th>\n",
       "      <td>262</td>\n",
       "      <td>2009-01-11</td>\n",
       "      <td>47</td>\n",
       "      <td>50.67</td>\n",
       "    </tr>\n",
       "    <tr>\n",
       "      <th>1</th>\n",
       "      <td>278</td>\n",
       "      <td>2009-01-20</td>\n",
       "      <td>47</td>\n",
       "      <td>26.60</td>\n",
       "    </tr>\n",
       "    <tr>\n",
       "      <th>2</th>\n",
       "      <td>294</td>\n",
       "      <td>2009-02-03</td>\n",
       "      <td>47</td>\n",
       "      <td>38.71</td>\n",
       "    </tr>\n",
       "    <tr>\n",
       "      <th>3</th>\n",
       "      <td>301</td>\n",
       "      <td>2009-02-06</td>\n",
       "      <td>47</td>\n",
       "      <td>53.38</td>\n",
       "    </tr>\n",
       "    <tr>\n",
       "      <th>4</th>\n",
       "      <td>302</td>\n",
       "      <td>2009-02-06</td>\n",
       "      <td>47</td>\n",
       "      <td>14.28</td>\n",
       "    </tr>\n",
       "  </tbody>\n",
       "</table>\n",
       "</div>"
      ],
      "text/plain": [
       "   OrderId  OrderDate  UserId  TotalCharges\n",
       "0      262 2009-01-11      47         50.67\n",
       "1      278 2009-01-20      47         26.60\n",
       "2      294 2009-02-03      47         38.71\n",
       "3      301 2009-02-06      47         53.38\n",
       "4      302 2009-02-06      47         14.28"
      ]
     },
     "execution_count": 4,
     "metadata": {},
     "output_type": "execute_result"
    }
   ],
   "source": [
    "df['OrderDate'] = pd.to_datetime(df['OrderDate']) #change to datatime\n",
    "df = df.drop(df.columns[[4, 5, 6]], axis=1) #drop uneeded columns\n",
    "df.head() #check it out"
   ]
  },
  {
   "cell_type": "markdown",
   "metadata": {},
   "source": [
    "**Create period column based on the OrderDate**\n",
    "\n",
    "Create a new column that rolls up the cohort by month.  "
   ]
  },
  {
   "cell_type": "code",
   "execution_count": 5,
   "metadata": {
    "collapsed": false
   },
   "outputs": [
    {
     "data": {
      "text/html": [
       "<div>\n",
       "<table border=\"1\" class=\"dataframe\">\n",
       "  <thead>\n",
       "    <tr style=\"text-align: right;\">\n",
       "      <th></th>\n",
       "      <th>OrderId</th>\n",
       "      <th>OrderDate</th>\n",
       "      <th>UserId</th>\n",
       "      <th>TotalCharges</th>\n",
       "      <th>OrderPeriod</th>\n",
       "    </tr>\n",
       "  </thead>\n",
       "  <tbody>\n",
       "    <tr>\n",
       "      <th>0</th>\n",
       "      <td>262</td>\n",
       "      <td>2009-01-11</td>\n",
       "      <td>47</td>\n",
       "      <td>50.67</td>\n",
       "      <td>2009-01</td>\n",
       "    </tr>\n",
       "    <tr>\n",
       "      <th>1</th>\n",
       "      <td>278</td>\n",
       "      <td>2009-01-20</td>\n",
       "      <td>47</td>\n",
       "      <td>26.60</td>\n",
       "      <td>2009-01</td>\n",
       "    </tr>\n",
       "    <tr>\n",
       "      <th>2</th>\n",
       "      <td>294</td>\n",
       "      <td>2009-02-03</td>\n",
       "      <td>47</td>\n",
       "      <td>38.71</td>\n",
       "      <td>2009-02</td>\n",
       "    </tr>\n",
       "    <tr>\n",
       "      <th>3</th>\n",
       "      <td>301</td>\n",
       "      <td>2009-02-06</td>\n",
       "      <td>47</td>\n",
       "      <td>53.38</td>\n",
       "      <td>2009-02</td>\n",
       "    </tr>\n",
       "    <tr>\n",
       "      <th>4</th>\n",
       "      <td>302</td>\n",
       "      <td>2009-02-06</td>\n",
       "      <td>47</td>\n",
       "      <td>14.28</td>\n",
       "      <td>2009-02</td>\n",
       "    </tr>\n",
       "  </tbody>\n",
       "</table>\n",
       "</div>"
      ],
      "text/plain": [
       "   OrderId  OrderDate  UserId  TotalCharges OrderPeriod\n",
       "0      262 2009-01-11      47         50.67     2009-01\n",
       "1      278 2009-01-20      47         26.60     2009-01\n",
       "2      294 2009-02-03      47         38.71     2009-02\n",
       "3      301 2009-02-06      47         53.38     2009-02\n",
       "4      302 2009-02-06      47         14.28     2009-02"
      ]
     },
     "execution_count": 5,
     "metadata": {},
     "output_type": "execute_result"
    }
   ],
   "source": [
    "df['OrderPeriod'] = df.OrderDate.apply(lambda x: x.strftime('%Y-%m')) #order by period, truncate datetime to year-month\n",
    "df.head() #check it out"
   ]
  },
  {
   "cell_type": "markdown",
   "metadata": {},
   "source": [
    "**Determine the user's cohort group (based on their first order)**"
   ]
  },
  {
   "cell_type": "code",
   "execution_count": 6,
   "metadata": {
    "collapsed": false
   },
   "outputs": [
    {
     "data": {
      "text/html": [
       "<div>\n",
       "<table border=\"1\" class=\"dataframe\">\n",
       "  <thead>\n",
       "    <tr style=\"text-align: right;\">\n",
       "      <th></th>\n",
       "      <th>UserId</th>\n",
       "      <th>OrderId</th>\n",
       "      <th>OrderDate</th>\n",
       "      <th>TotalCharges</th>\n",
       "      <th>OrderPeriod</th>\n",
       "      <th>CohortGroup</th>\n",
       "    </tr>\n",
       "  </thead>\n",
       "  <tbody>\n",
       "    <tr>\n",
       "      <th>0</th>\n",
       "      <td>47</td>\n",
       "      <td>262</td>\n",
       "      <td>2009-01-11</td>\n",
       "      <td>50.67</td>\n",
       "      <td>2009-01</td>\n",
       "      <td>2009-01</td>\n",
       "    </tr>\n",
       "    <tr>\n",
       "      <th>1</th>\n",
       "      <td>47</td>\n",
       "      <td>278</td>\n",
       "      <td>2009-01-20</td>\n",
       "      <td>26.60</td>\n",
       "      <td>2009-01</td>\n",
       "      <td>2009-01</td>\n",
       "    </tr>\n",
       "    <tr>\n",
       "      <th>2</th>\n",
       "      <td>47</td>\n",
       "      <td>294</td>\n",
       "      <td>2009-02-03</td>\n",
       "      <td>38.71</td>\n",
       "      <td>2009-02</td>\n",
       "      <td>2009-01</td>\n",
       "    </tr>\n",
       "    <tr>\n",
       "      <th>3</th>\n",
       "      <td>47</td>\n",
       "      <td>301</td>\n",
       "      <td>2009-02-06</td>\n",
       "      <td>53.38</td>\n",
       "      <td>2009-02</td>\n",
       "      <td>2009-01</td>\n",
       "    </tr>\n",
       "    <tr>\n",
       "      <th>4</th>\n",
       "      <td>47</td>\n",
       "      <td>302</td>\n",
       "      <td>2009-02-06</td>\n",
       "      <td>14.28</td>\n",
       "      <td>2009-02</td>\n",
       "      <td>2009-01</td>\n",
       "    </tr>\n",
       "  </tbody>\n",
       "</table>\n",
       "</div>"
      ],
      "text/plain": [
       "   UserId  OrderId  OrderDate  TotalCharges OrderPeriod CohortGroup\n",
       "0      47      262 2009-01-11         50.67     2009-01     2009-01\n",
       "1      47      278 2009-01-20         26.60     2009-01     2009-01\n",
       "2      47      294 2009-02-03         38.71     2009-02     2009-01\n",
       "3      47      301 2009-02-06         53.38     2009-02     2009-01\n",
       "4      47      302 2009-02-06         14.28     2009-02     2009-01"
      ]
     },
     "execution_count": 6,
     "metadata": {},
     "output_type": "execute_result"
    }
   ],
   "source": [
    "df.set_index('UserId', inplace=True) #set index based on user ID\n",
    "\n",
    "df['CohortGroup'] = df.groupby(level=0)['OrderDate'].min().apply(lambda x: x.strftime('%Y-%m')) #order by first date\n",
    "df.reset_index(inplace=True) #reset index\n",
    "df.head() #check out the data frame"
   ]
  },
  {
   "cell_type": "markdown",
   "metadata": {},
   "source": [
    "**Rollup data by CohortGroup & OrderPeriod**\n",
    "\n",
    "Since we're looking at monthly cohorts, we need to aggregate users, orders, and amount spent by the CohortGroup within the month (OrderPeriod)."
   ]
  },
  {
   "cell_type": "code",
   "execution_count": 7,
   "metadata": {
    "collapsed": false
   },
   "outputs": [
    {
     "data": {
      "text/html": [
       "<div>\n",
       "<table border=\"1\" class=\"dataframe\">\n",
       "  <thead>\n",
       "    <tr style=\"text-align: right;\">\n",
       "      <th></th>\n",
       "      <th></th>\n",
       "      <th>TotalOrders</th>\n",
       "      <th>TotalUsers</th>\n",
       "      <th>TotalCharges</th>\n",
       "    </tr>\n",
       "    <tr>\n",
       "      <th>CohortGroup</th>\n",
       "      <th>OrderPeriod</th>\n",
       "      <th></th>\n",
       "      <th></th>\n",
       "      <th></th>\n",
       "    </tr>\n",
       "  </thead>\n",
       "  <tbody>\n",
       "    <tr>\n",
       "      <th rowspan=\"5\" valign=\"top\">2009-01</th>\n",
       "      <th>2009-01</th>\n",
       "      <td>30</td>\n",
       "      <td>22</td>\n",
       "      <td>1850.26</td>\n",
       "    </tr>\n",
       "    <tr>\n",
       "      <th>2009-02</th>\n",
       "      <td>25</td>\n",
       "      <td>8</td>\n",
       "      <td>1351.07</td>\n",
       "    </tr>\n",
       "    <tr>\n",
       "      <th>2009-03</th>\n",
       "      <td>26</td>\n",
       "      <td>10</td>\n",
       "      <td>1357.36</td>\n",
       "    </tr>\n",
       "    <tr>\n",
       "      <th>2009-04</th>\n",
       "      <td>28</td>\n",
       "      <td>9</td>\n",
       "      <td>1604.50</td>\n",
       "    </tr>\n",
       "    <tr>\n",
       "      <th>2009-05</th>\n",
       "      <td>26</td>\n",
       "      <td>10</td>\n",
       "      <td>1575.63</td>\n",
       "    </tr>\n",
       "  </tbody>\n",
       "</table>\n",
       "</div>"
      ],
      "text/plain": [
       "                         TotalOrders  TotalUsers  TotalCharges\n",
       "CohortGroup OrderPeriod                                       \n",
       "2009-01     2009-01               30          22       1850.26\n",
       "            2009-02               25           8       1351.07\n",
       "            2009-03               26          10       1357.36\n",
       "            2009-04               28           9       1604.50\n",
       "            2009-05               26          10       1575.63"
      ]
     },
     "execution_count": 7,
     "metadata": {},
     "output_type": "execute_result"
    }
   ],
   "source": [
    "grouped = df.groupby(['CohortGroup', 'OrderPeriod']) #group by cohort group and order period\n",
    "\n",
    "# count the unique users, orders, and total revenue per Group + Period\n",
    "cohorts = grouped.agg({'UserId': pd.Series.nunique,\n",
    "                       'OrderId': pd.Series.nunique,\n",
    "                       'TotalCharges': np.sum})\n",
    "\n",
    "# make the column names more meaningful\n",
    "cohorts.rename(columns={'UserId': 'TotalUsers',\n",
    "                        'OrderId': 'TotalOrders'}, inplace=True)\n",
    "cohorts.head() #check it out"
   ]
  },
  {
   "cell_type": "markdown",
   "metadata": {},
   "source": [
    "**Label the CohortPeriod for each CohortGroup**\n",
    "\n",
    "We want to look at how each cohort has behaved in the months following their first purchase, so we'll need to index each cohort to their first purchase month. For example, CohortPeriod = 1 will be the cohort's first month, CohortPeriod = 2 is their second, and so on.\n",
    "\n",
    "This allows us to compare cohorts across various stages of their lifetime."
   ]
  },
  {
   "cell_type": "code",
   "execution_count": 8,
   "metadata": {
    "collapsed": false
   },
   "outputs": [
    {
     "data": {
      "text/html": [
       "<div>\n",
       "<table border=\"1\" class=\"dataframe\">\n",
       "  <thead>\n",
       "    <tr style=\"text-align: right;\">\n",
       "      <th></th>\n",
       "      <th></th>\n",
       "      <th>TotalOrders</th>\n",
       "      <th>TotalUsers</th>\n",
       "      <th>TotalCharges</th>\n",
       "      <th>CohortPeriod</th>\n",
       "    </tr>\n",
       "    <tr>\n",
       "      <th>CohortGroup</th>\n",
       "      <th>OrderPeriod</th>\n",
       "      <th></th>\n",
       "      <th></th>\n",
       "      <th></th>\n",
       "      <th></th>\n",
       "    </tr>\n",
       "  </thead>\n",
       "  <tbody>\n",
       "    <tr>\n",
       "      <th rowspan=\"5\" valign=\"top\">2009-01</th>\n",
       "      <th>2009-01</th>\n",
       "      <td>30</td>\n",
       "      <td>22</td>\n",
       "      <td>1850.26</td>\n",
       "      <td>1</td>\n",
       "    </tr>\n",
       "    <tr>\n",
       "      <th>2009-02</th>\n",
       "      <td>25</td>\n",
       "      <td>8</td>\n",
       "      <td>1351.07</td>\n",
       "      <td>2</td>\n",
       "    </tr>\n",
       "    <tr>\n",
       "      <th>2009-03</th>\n",
       "      <td>26</td>\n",
       "      <td>10</td>\n",
       "      <td>1357.36</td>\n",
       "      <td>3</td>\n",
       "    </tr>\n",
       "    <tr>\n",
       "      <th>2009-04</th>\n",
       "      <td>28</td>\n",
       "      <td>9</td>\n",
       "      <td>1604.50</td>\n",
       "      <td>4</td>\n",
       "    </tr>\n",
       "    <tr>\n",
       "      <th>2009-05</th>\n",
       "      <td>26</td>\n",
       "      <td>10</td>\n",
       "      <td>1575.63</td>\n",
       "      <td>5</td>\n",
       "    </tr>\n",
       "  </tbody>\n",
       "</table>\n",
       "</div>"
      ],
      "text/plain": [
       "                         TotalOrders  TotalUsers  TotalCharges  CohortPeriod\n",
       "CohortGroup OrderPeriod                                                     \n",
       "2009-01     2009-01               30          22       1850.26             1\n",
       "            2009-02               25           8       1351.07             2\n",
       "            2009-03               26          10       1357.36             3\n",
       "            2009-04               28           9       1604.50             4\n",
       "            2009-05               26          10       1575.63             5"
      ]
     },
     "execution_count": 8,
     "metadata": {},
     "output_type": "execute_result"
    }
   ],
   "source": [
    "def cohort_period(df):\n",
    "    \"\"\"\n",
    "    Creates a `CohortPeriod` column, which is the Nth period based on the user's first purchase.\n",
    "    \n",
    "    Example\n",
    "    -------\n",
    "    Say you want to get the 3rd month for every user:\n",
    "        df.sort(['UserId', 'OrderTime', inplace=True)\n",
    "        df = df.groupby('UserId').apply(cohort_period)\n",
    "        df[df.CohortPeriod == 3]\n",
    "    \"\"\"\n",
    "    df['CohortPeriod'] = np.arange(len(df)) + 1\n",
    "    return df\n",
    "\n",
    "cohorts = cohorts.groupby(level=0).apply(cohort_period) \n",
    "cohorts.head()"
   ]
  },
  {
   "cell_type": "markdown",
   "metadata": {},
   "source": [
    "**Make sure we did all that right**"
   ]
  },
  {
   "cell_type": "code",
   "execution_count": 9,
   "metadata": {
    "collapsed": false
   },
   "outputs": [],
   "source": [
    "x = df[(df.CohortGroup == '2009-01') & (df.OrderPeriod == '2009-01')]\n",
    "y = cohorts.ix[('2009-01', '2009-01')]\n",
    "\n",
    "assert(x['UserId'].nunique() == y['TotalUsers'])\n",
    "assert(x['TotalCharges'].sum() == y['TotalCharges'])\n",
    "assert(x['OrderId'].nunique() == y['TotalOrders'])\n",
    "\n",
    "x = df[(df.CohortGroup == '2009-01') & (df.OrderPeriod == '2009-09')]\n",
    "y = cohorts.ix[('2009-01', '2009-09')]\n",
    "\n",
    "assert(x['UserId'].nunique() == y['TotalUsers'])\n",
    "assert(x['TotalCharges'].sum() == y['TotalCharges'])\n",
    "assert(x['OrderId'].nunique() == y['TotalOrders'])\n",
    "\n",
    "x = df[(df.CohortGroup == '2009-05') & (df.OrderPeriod == '2009-09')]\n",
    "y = cohorts.ix[('2009-05', '2009-09')]\n",
    "\n",
    "assert(x['UserId'].nunique() == y['TotalUsers'])\n",
    "assert(x['TotalCharges'].sum() == y['TotalCharges'])\n",
    "assert(x['OrderId'].nunique() == y['TotalOrders'])"
   ]
  },
  {
   "cell_type": "markdown",
   "metadata": {},
   "source": [
    "**User Retention by Cohort Group**\n",
    "\n",
    "We want to look at the percentage change of each CohortGroup over time -- not the absolute change.  To do this, we'll first need to create a pandas Series containing each CohortGroup and its size."
   ]
  },
  {
   "cell_type": "code",
   "execution_count": 10,
   "metadata": {
    "collapsed": false
   },
   "outputs": [
    {
     "data": {
      "text/plain": [
       "CohortGroup\n",
       "2009-01    22\n",
       "2009-02    15\n",
       "2009-03    13\n",
       "2009-04    39\n",
       "2009-05    50\n",
       "Name: TotalUsers, dtype: int64"
      ]
     },
     "execution_count": 10,
     "metadata": {},
     "output_type": "execute_result"
    }
   ],
   "source": [
    "# reindex the DataFrame\n",
    "cohorts.reset_index(inplace=True)\n",
    "cohorts.set_index(['CohortGroup', 'CohortPeriod'], inplace=True)\n",
    "\n",
    "# create a Series holding the total size of each CohortGroup\n",
    "cohort_group_size = cohorts['TotalUsers'].groupby(level=0).first()\n",
    "cohort_group_size.head()"
   ]
  },
  {
   "cell_type": "markdown",
   "metadata": {},
   "source": [
    "Now, we'll need to divide the `TotalUsers` values in `cohorts` by `cohort_group_size`. Since DataFrame operations are performed based on the indices of the objects, we'll use `unstack` on our `cohorts` DataFrame to create a matrix where each column represents a CohortGroup and each row is the CohortPeriod corresponding to that group.\n",
    "\n",
    "To illustrate what `unstack` does, recall the first five `TotalUsers` values:"
   ]
  },
  {
   "cell_type": "code",
   "execution_count": 11,
   "metadata": {
    "collapsed": false
   },
   "outputs": [
    {
     "data": {
      "text/plain": [
       "CohortGroup  CohortPeriod\n",
       "2009-01      1               22\n",
       "             2                8\n",
       "             3               10\n",
       "             4                9\n",
       "             5               10\n",
       "Name: TotalUsers, dtype: int64"
      ]
     },
     "execution_count": 11,
     "metadata": {},
     "output_type": "execute_result"
    }
   ],
   "source": [
    "cohorts['TotalUsers'].head() "
   ]
  },
  {
   "cell_type": "code",
   "execution_count": 12,
   "metadata": {
    "collapsed": false
   },
   "outputs": [
    {
     "data": {
      "text/html": [
       "<div>\n",
       "<table border=\"1\" class=\"dataframe\">\n",
       "  <thead>\n",
       "    <tr style=\"text-align: right;\">\n",
       "      <th>CohortGroup</th>\n",
       "      <th>2009-01</th>\n",
       "      <th>2009-02</th>\n",
       "      <th>2009-03</th>\n",
       "      <th>2009-04</th>\n",
       "      <th>2009-05</th>\n",
       "      <th>2009-06</th>\n",
       "      <th>2009-07</th>\n",
       "      <th>2009-08</th>\n",
       "      <th>2009-09</th>\n",
       "      <th>2009-10</th>\n",
       "      <th>2009-11</th>\n",
       "      <th>2009-12</th>\n",
       "      <th>2010-01</th>\n",
       "      <th>2010-02</th>\n",
       "      <th>2010-03</th>\n",
       "    </tr>\n",
       "    <tr>\n",
       "      <th>CohortPeriod</th>\n",
       "      <th></th>\n",
       "      <th></th>\n",
       "      <th></th>\n",
       "      <th></th>\n",
       "      <th></th>\n",
       "      <th></th>\n",
       "      <th></th>\n",
       "      <th></th>\n",
       "      <th></th>\n",
       "      <th></th>\n",
       "      <th></th>\n",
       "      <th></th>\n",
       "      <th></th>\n",
       "      <th></th>\n",
       "      <th></th>\n",
       "    </tr>\n",
       "  </thead>\n",
       "  <tbody>\n",
       "    <tr>\n",
       "      <th>1</th>\n",
       "      <td>22.0</td>\n",
       "      <td>15.0</td>\n",
       "      <td>13.0</td>\n",
       "      <td>39.0</td>\n",
       "      <td>50.0</td>\n",
       "      <td>32.0</td>\n",
       "      <td>50.0</td>\n",
       "      <td>31.0</td>\n",
       "      <td>37.0</td>\n",
       "      <td>54.0</td>\n",
       "      <td>130.0</td>\n",
       "      <td>65.0</td>\n",
       "      <td>95.0</td>\n",
       "      <td>100.0</td>\n",
       "      <td>24.0</td>\n",
       "    </tr>\n",
       "    <tr>\n",
       "      <th>2</th>\n",
       "      <td>8.0</td>\n",
       "      <td>3.0</td>\n",
       "      <td>4.0</td>\n",
       "      <td>13.0</td>\n",
       "      <td>13.0</td>\n",
       "      <td>15.0</td>\n",
       "      <td>23.0</td>\n",
       "      <td>11.0</td>\n",
       "      <td>15.0</td>\n",
       "      <td>17.0</td>\n",
       "      <td>32.0</td>\n",
       "      <td>17.0</td>\n",
       "      <td>50.0</td>\n",
       "      <td>19.0</td>\n",
       "      <td>NaN</td>\n",
       "    </tr>\n",
       "    <tr>\n",
       "      <th>3</th>\n",
       "      <td>10.0</td>\n",
       "      <td>5.0</td>\n",
       "      <td>5.0</td>\n",
       "      <td>10.0</td>\n",
       "      <td>12.0</td>\n",
       "      <td>9.0</td>\n",
       "      <td>13.0</td>\n",
       "      <td>9.0</td>\n",
       "      <td>14.0</td>\n",
       "      <td>12.0</td>\n",
       "      <td>26.0</td>\n",
       "      <td>18.0</td>\n",
       "      <td>26.0</td>\n",
       "      <td>NaN</td>\n",
       "      <td>NaN</td>\n",
       "    </tr>\n",
       "    <tr>\n",
       "      <th>4</th>\n",
       "      <td>9.0</td>\n",
       "      <td>1.0</td>\n",
       "      <td>4.0</td>\n",
       "      <td>13.0</td>\n",
       "      <td>5.0</td>\n",
       "      <td>6.0</td>\n",
       "      <td>10.0</td>\n",
       "      <td>7.0</td>\n",
       "      <td>8.0</td>\n",
       "      <td>13.0</td>\n",
       "      <td>29.0</td>\n",
       "      <td>7.0</td>\n",
       "      <td>NaN</td>\n",
       "      <td>NaN</td>\n",
       "      <td>NaN</td>\n",
       "    </tr>\n",
       "    <tr>\n",
       "      <th>5</th>\n",
       "      <td>10.0</td>\n",
       "      <td>4.0</td>\n",
       "      <td>1.0</td>\n",
       "      <td>6.0</td>\n",
       "      <td>4.0</td>\n",
       "      <td>7.0</td>\n",
       "      <td>11.0</td>\n",
       "      <td>6.0</td>\n",
       "      <td>13.0</td>\n",
       "      <td>13.0</td>\n",
       "      <td>13.0</td>\n",
       "      <td>NaN</td>\n",
       "      <td>NaN</td>\n",
       "      <td>NaN</td>\n",
       "      <td>NaN</td>\n",
       "    </tr>\n",
       "  </tbody>\n",
       "</table>\n",
       "</div>"
      ],
      "text/plain": [
       "CohortGroup   2009-01  2009-02  2009-03  2009-04  2009-05  2009-06  2009-07  \\\n",
       "CohortPeriod                                                                  \n",
       "1                22.0     15.0     13.0     39.0     50.0     32.0     50.0   \n",
       "2                 8.0      3.0      4.0     13.0     13.0     15.0     23.0   \n",
       "3                10.0      5.0      5.0     10.0     12.0      9.0     13.0   \n",
       "4                 9.0      1.0      4.0     13.0      5.0      6.0     10.0   \n",
       "5                10.0      4.0      1.0      6.0      4.0      7.0     11.0   \n",
       "\n",
       "CohortGroup   2009-08  2009-09  2009-10  2009-11  2009-12  2010-01  2010-02  \\\n",
       "CohortPeriod                                                                  \n",
       "1                31.0     37.0     54.0    130.0     65.0     95.0    100.0   \n",
       "2                11.0     15.0     17.0     32.0     17.0     50.0     19.0   \n",
       "3                 9.0     14.0     12.0     26.0     18.0     26.0      NaN   \n",
       "4                 7.0      8.0     13.0     29.0      7.0      NaN      NaN   \n",
       "5                 6.0     13.0     13.0     13.0      NaN      NaN      NaN   \n",
       "\n",
       "CohortGroup   2010-03  \n",
       "CohortPeriod           \n",
       "1                24.0  \n",
       "2                 NaN  \n",
       "3                 NaN  \n",
       "4                 NaN  \n",
       "5                 NaN  "
      ]
     },
     "execution_count": 12,
     "metadata": {},
     "output_type": "execute_result"
    }
   ],
   "source": [
    "cohorts['TotalUsers'].unstack(0).head()"
   ]
  },
  {
   "cell_type": "markdown",
   "metadata": {},
   "source": [
    "Finally, we can plot the cohorts over time in an effort to spot behavioral differences or similarities. Two common cohort charts are line graphs and heatmaps, both of which are shown below.\n",
    "\n",
    "Notice that the first period of each cohort is 100% -- this is because our cohorts are based on each user's first purchase, meaning everyone in the cohort purchased in month 1."
   ]
  },
  {
   "cell_type": "code",
   "execution_count": 13,
   "metadata": {
    "collapsed": false
   },
   "outputs": [
    {
     "data": {
      "text/html": [
       "<div>\n",
       "<table border=\"1\" class=\"dataframe\">\n",
       "  <thead>\n",
       "    <tr style=\"text-align: right;\">\n",
       "      <th>CohortGroup</th>\n",
       "      <th>2009-01</th>\n",
       "      <th>2009-02</th>\n",
       "      <th>2009-03</th>\n",
       "      <th>2009-04</th>\n",
       "      <th>2009-05</th>\n",
       "      <th>2009-06</th>\n",
       "      <th>2009-07</th>\n",
       "      <th>2009-08</th>\n",
       "      <th>2009-09</th>\n",
       "      <th>2009-10</th>\n",
       "      <th>2009-11</th>\n",
       "      <th>2009-12</th>\n",
       "      <th>2010-01</th>\n",
       "      <th>2010-02</th>\n",
       "      <th>2010-03</th>\n",
       "    </tr>\n",
       "    <tr>\n",
       "      <th>CohortPeriod</th>\n",
       "      <th></th>\n",
       "      <th></th>\n",
       "      <th></th>\n",
       "      <th></th>\n",
       "      <th></th>\n",
       "      <th></th>\n",
       "      <th></th>\n",
       "      <th></th>\n",
       "      <th></th>\n",
       "      <th></th>\n",
       "      <th></th>\n",
       "      <th></th>\n",
       "      <th></th>\n",
       "      <th></th>\n",
       "      <th></th>\n",
       "    </tr>\n",
       "  </thead>\n",
       "  <tbody>\n",
       "    <tr>\n",
       "      <th>1</th>\n",
       "      <td>1.000000</td>\n",
       "      <td>1.000000</td>\n",
       "      <td>1.000000</td>\n",
       "      <td>1.000000</td>\n",
       "      <td>1.00</td>\n",
       "      <td>1.00000</td>\n",
       "      <td>1.00</td>\n",
       "      <td>1.000000</td>\n",
       "      <td>1.000000</td>\n",
       "      <td>1.000000</td>\n",
       "      <td>1.000000</td>\n",
       "      <td>1.000000</td>\n",
       "      <td>1.000000</td>\n",
       "      <td>1.00</td>\n",
       "      <td>1.0</td>\n",
       "    </tr>\n",
       "    <tr>\n",
       "      <th>2</th>\n",
       "      <td>0.363636</td>\n",
       "      <td>0.200000</td>\n",
       "      <td>0.307692</td>\n",
       "      <td>0.333333</td>\n",
       "      <td>0.26</td>\n",
       "      <td>0.46875</td>\n",
       "      <td>0.46</td>\n",
       "      <td>0.354839</td>\n",
       "      <td>0.405405</td>\n",
       "      <td>0.314815</td>\n",
       "      <td>0.246154</td>\n",
       "      <td>0.261538</td>\n",
       "      <td>0.526316</td>\n",
       "      <td>0.19</td>\n",
       "      <td>NaN</td>\n",
       "    </tr>\n",
       "    <tr>\n",
       "      <th>3</th>\n",
       "      <td>0.454545</td>\n",
       "      <td>0.333333</td>\n",
       "      <td>0.384615</td>\n",
       "      <td>0.256410</td>\n",
       "      <td>0.24</td>\n",
       "      <td>0.28125</td>\n",
       "      <td>0.26</td>\n",
       "      <td>0.290323</td>\n",
       "      <td>0.378378</td>\n",
       "      <td>0.222222</td>\n",
       "      <td>0.200000</td>\n",
       "      <td>0.276923</td>\n",
       "      <td>0.273684</td>\n",
       "      <td>NaN</td>\n",
       "      <td>NaN</td>\n",
       "    </tr>\n",
       "    <tr>\n",
       "      <th>4</th>\n",
       "      <td>0.409091</td>\n",
       "      <td>0.066667</td>\n",
       "      <td>0.307692</td>\n",
       "      <td>0.333333</td>\n",
       "      <td>0.10</td>\n",
       "      <td>0.18750</td>\n",
       "      <td>0.20</td>\n",
       "      <td>0.225806</td>\n",
       "      <td>0.216216</td>\n",
       "      <td>0.240741</td>\n",
       "      <td>0.223077</td>\n",
       "      <td>0.107692</td>\n",
       "      <td>NaN</td>\n",
       "      <td>NaN</td>\n",
       "      <td>NaN</td>\n",
       "    </tr>\n",
       "    <tr>\n",
       "      <th>5</th>\n",
       "      <td>0.454545</td>\n",
       "      <td>0.266667</td>\n",
       "      <td>0.076923</td>\n",
       "      <td>0.153846</td>\n",
       "      <td>0.08</td>\n",
       "      <td>0.21875</td>\n",
       "      <td>0.22</td>\n",
       "      <td>0.193548</td>\n",
       "      <td>0.351351</td>\n",
       "      <td>0.240741</td>\n",
       "      <td>0.100000</td>\n",
       "      <td>NaN</td>\n",
       "      <td>NaN</td>\n",
       "      <td>NaN</td>\n",
       "      <td>NaN</td>\n",
       "    </tr>\n",
       "    <tr>\n",
       "      <th>6</th>\n",
       "      <td>0.363636</td>\n",
       "      <td>0.266667</td>\n",
       "      <td>0.153846</td>\n",
       "      <td>0.179487</td>\n",
       "      <td>0.12</td>\n",
       "      <td>0.15625</td>\n",
       "      <td>0.20</td>\n",
       "      <td>0.258065</td>\n",
       "      <td>0.243243</td>\n",
       "      <td>0.129630</td>\n",
       "      <td>NaN</td>\n",
       "      <td>NaN</td>\n",
       "      <td>NaN</td>\n",
       "      <td>NaN</td>\n",
       "      <td>NaN</td>\n",
       "    </tr>\n",
       "    <tr>\n",
       "      <th>7</th>\n",
       "      <td>0.363636</td>\n",
       "      <td>0.266667</td>\n",
       "      <td>0.153846</td>\n",
       "      <td>0.102564</td>\n",
       "      <td>0.06</td>\n",
       "      <td>0.09375</td>\n",
       "      <td>0.22</td>\n",
       "      <td>0.129032</td>\n",
       "      <td>0.216216</td>\n",
       "      <td>NaN</td>\n",
       "      <td>NaN</td>\n",
       "      <td>NaN</td>\n",
       "      <td>NaN</td>\n",
       "      <td>NaN</td>\n",
       "      <td>NaN</td>\n",
       "    </tr>\n",
       "    <tr>\n",
       "      <th>8</th>\n",
       "      <td>0.318182</td>\n",
       "      <td>0.333333</td>\n",
       "      <td>0.230769</td>\n",
       "      <td>0.153846</td>\n",
       "      <td>0.10</td>\n",
       "      <td>0.09375</td>\n",
       "      <td>0.14</td>\n",
       "      <td>0.129032</td>\n",
       "      <td>NaN</td>\n",
       "      <td>NaN</td>\n",
       "      <td>NaN</td>\n",
       "      <td>NaN</td>\n",
       "      <td>NaN</td>\n",
       "      <td>NaN</td>\n",
       "      <td>NaN</td>\n",
       "    </tr>\n",
       "    <tr>\n",
       "      <th>9</th>\n",
       "      <td>0.318182</td>\n",
       "      <td>0.333333</td>\n",
       "      <td>0.153846</td>\n",
       "      <td>0.051282</td>\n",
       "      <td>0.10</td>\n",
       "      <td>0.31250</td>\n",
       "      <td>0.14</td>\n",
       "      <td>NaN</td>\n",
       "      <td>NaN</td>\n",
       "      <td>NaN</td>\n",
       "      <td>NaN</td>\n",
       "      <td>NaN</td>\n",
       "      <td>NaN</td>\n",
       "      <td>NaN</td>\n",
       "      <td>NaN</td>\n",
       "    </tr>\n",
       "    <tr>\n",
       "      <th>10</th>\n",
       "      <td>0.318182</td>\n",
       "      <td>0.266667</td>\n",
       "      <td>0.076923</td>\n",
       "      <td>0.102564</td>\n",
       "      <td>0.08</td>\n",
       "      <td>0.09375</td>\n",
       "      <td>NaN</td>\n",
       "      <td>NaN</td>\n",
       "      <td>NaN</td>\n",
       "      <td>NaN</td>\n",
       "      <td>NaN</td>\n",
       "      <td>NaN</td>\n",
       "      <td>NaN</td>\n",
       "      <td>NaN</td>\n",
       "      <td>NaN</td>\n",
       "    </tr>\n",
       "  </tbody>\n",
       "</table>\n",
       "</div>"
      ],
      "text/plain": [
       "CohortGroup    2009-01   2009-02   2009-03   2009-04  2009-05  2009-06  \\\n",
       "CohortPeriod                                                             \n",
       "1             1.000000  1.000000  1.000000  1.000000     1.00  1.00000   \n",
       "2             0.363636  0.200000  0.307692  0.333333     0.26  0.46875   \n",
       "3             0.454545  0.333333  0.384615  0.256410     0.24  0.28125   \n",
       "4             0.409091  0.066667  0.307692  0.333333     0.10  0.18750   \n",
       "5             0.454545  0.266667  0.076923  0.153846     0.08  0.21875   \n",
       "6             0.363636  0.266667  0.153846  0.179487     0.12  0.15625   \n",
       "7             0.363636  0.266667  0.153846  0.102564     0.06  0.09375   \n",
       "8             0.318182  0.333333  0.230769  0.153846     0.10  0.09375   \n",
       "9             0.318182  0.333333  0.153846  0.051282     0.10  0.31250   \n",
       "10            0.318182  0.266667  0.076923  0.102564     0.08  0.09375   \n",
       "\n",
       "CohortGroup   2009-07   2009-08   2009-09   2009-10   2009-11   2009-12  \\\n",
       "CohortPeriod                                                              \n",
       "1                1.00  1.000000  1.000000  1.000000  1.000000  1.000000   \n",
       "2                0.46  0.354839  0.405405  0.314815  0.246154  0.261538   \n",
       "3                0.26  0.290323  0.378378  0.222222  0.200000  0.276923   \n",
       "4                0.20  0.225806  0.216216  0.240741  0.223077  0.107692   \n",
       "5                0.22  0.193548  0.351351  0.240741  0.100000       NaN   \n",
       "6                0.20  0.258065  0.243243  0.129630       NaN       NaN   \n",
       "7                0.22  0.129032  0.216216       NaN       NaN       NaN   \n",
       "8                0.14  0.129032       NaN       NaN       NaN       NaN   \n",
       "9                0.14       NaN       NaN       NaN       NaN       NaN   \n",
       "10                NaN       NaN       NaN       NaN       NaN       NaN   \n",
       "\n",
       "CohortGroup    2010-01  2010-02  2010-03  \n",
       "CohortPeriod                              \n",
       "1             1.000000     1.00      1.0  \n",
       "2             0.526316     0.19      NaN  \n",
       "3             0.273684      NaN      NaN  \n",
       "4                  NaN      NaN      NaN  \n",
       "5                  NaN      NaN      NaN  \n",
       "6                  NaN      NaN      NaN  \n",
       "7                  NaN      NaN      NaN  \n",
       "8                  NaN      NaN      NaN  \n",
       "9                  NaN      NaN      NaN  \n",
       "10                 NaN      NaN      NaN  "
      ]
     },
     "execution_count": 13,
     "metadata": {},
     "output_type": "execute_result"
    }
   ],
   "source": [
    "user_retention = cohorts['TotalUsers'].unstack(0).divide(cohort_group_size, axis=1)\n",
    "user_retention.head(10)"
   ]
  },
  {
   "cell_type": "markdown",
   "metadata": {},
   "source": [
    "**Visualize the results**"
   ]
  },
  {
   "cell_type": "code",
   "execution_count": 14,
   "metadata": {
    "collapsed": false
   },
   "outputs": [
    {
     "data": {
      "image/png": "[encoded data removed]",
      "text/plain": [
       "<matplotlib.figure.Figure at 0x8ac0950>"
      ]
     },
     "metadata": {},
     "output_type": "display_data"
    }
   ],
   "source": [
    "user_retention[['2009-06', '2009-07', '2009-08']].plot(figsize=(10,5))\n",
    "plt.title('Cohorts: User Retention')\n",
    "plt.xticks(np.arange(1, 12.1, 1))\n",
    "plt.xlim(1, 12)\n",
    "plt.ylabel('% of Cohort Purchasing');"
   ]
  },
  {
   "cell_type": "code",
   "execution_count": 15,
   "metadata": {
    "collapsed": false
   },
   "outputs": [
    {
     "data": {
      "image/png": "[encoded data removed]",
      "text/plain": [
       "<matplotlib.figure.Figure at 0x8c71690>"
      ]
     },
     "metadata": {},
     "output_type": "display_data"
    }
   ],
   "source": [
    "# Creating heatmaps in matplotlib is more difficult than it should be.\n",
    "# Thankfully, Seaborn makes them easy for us.\n",
    "# http://stanford.edu/~mwaskom/software/seaborn/\n",
    "\n",
    "\n",
    "sns.set(style='white')\n",
    "\n",
    "plt.figure(figsize=(12, 8))\n",
    "plt.title('Cohorts: User Retention')\n",
    "sns.heatmap(user_retention.T, mask=user_retention.T.isnull(), annot=True, fmt='.0%');"
   ]
  },
  {
   "cell_type": "markdown",
   "metadata": {},
   "source": [
    "**bonus - try it with bokeh**"
   ]
  },
  {
   "cell_type": "code",
   "execution_count": null,
   "metadata": {
    "collapsed": false
   },
   "outputs": [],
   "source": [
    "from bokeh.plotting import figure, show, output_file, vplot\n",
    "p1 = figure()\n",
    "p1.title = \"Cohorts: User Retention\"\n",
    "p1.grid.grid_line_alpha=0.3\n",
    "p1.xaxis.axis_label = 'Cohort Period'\n",
    "p1.yaxis.axis_label = '% of Cohort Purchasing'\n",
    "\n",
    "p1.line(range(1,16), user_retention['2009-06'], color='#A6CEE3', legend='2009-06')\n",
    "p1.line(range(1,16), user_retention['2009-07'], color='#B2DF8A', legend='2009-07')\n",
    "p1.line(range(1,16), user_retention['2009-08'], color='#33A02C', legend='2009-08')\n",
    "p1.line(range(1,16), user_retention['2009-09'], color='#FB9A99', legend='2009-09')\n",
    "\n",
    "output_file(\"cohorts.html\", title=\"cohorts.py example\")\n",
    "show(p1)  # open a browser"
   ]
  }
 ],
 "metadata": {
  "kernelspec": {
   "display_name": "Python 2",
   "language": "python",
   "name": "python2"
  },
  "language_info": {
   "codemirror_mode": {
    "name": "ipython",
    "version": 2
   },
   "file_extension": ".py",
   "mimetype": "text/x-python",
   "name": "python",
   "nbconvert_exporter": "python",
   "pygments_lexer": "ipython2",
   "version": "2.7.11"
  }
 },
 "nbformat": 4,
 "nbformat_minor": 0
}
