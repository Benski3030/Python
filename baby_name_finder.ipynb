{
 "cells": [
  {
   "cell_type": "markdown",
   "metadata": {},
   "source": [
    "# Data Analysis With Python"
   ]
  },
  {
   "cell_type": "markdown",
   "metadata": {},
   "source": [
    "This example will show how python with Pandas can be used for effective programatic data analysis.  The goals of this analysis are to:\n",
    "\n",
    "1. Read in a collection of .txt files containing the counts of baby names by year\n",
    "2. Combine them into a single data frame\n",
    "3. Perform exploratory data analysis on that data frame"
   ]
  },
  {
   "cell_type": "code",
   "execution_count": null,
   "metadata": {
    "collapsed": false
   },
   "outputs": [],
   "source": [
    "import os\n",
    "import pandas as pd\n",
    "import numpy as np\n",
    "import matplotlib.pyplot as plt\n",
    "%matplotlib inline  "
   ]
  },
  {
   "cell_type": "markdown",
   "metadata": {},
   "source": [
    "The function contains a string formatter that will take the int in the range of years (1880 to 2014) and include that in the stiring text.  This is done through the incluse of the %d, which is for a number, whereas %s is for a string.  Before you run the code, here is a couple examples:"
   ]
  },
  {
   "cell_type": "code",
   "execution_count": null,
   "metadata": {
    "collapsed": false
   },
   "outputs": [],
   "source": [
    "name = 'Bob'\n",
    "number = 1980\n",
    "print '%s %d' % (name, number)\n",
    "\n",
    "#or embedded\n",
    "print '%s was born in %d'  % (name, number)\n",
    "\n",
    "#multiple instances\n",
    "name2 = 'Sam'\n",
    "print '%s and %s were both born in %d' % (name, name2, number)"
   ]
  },
  {
   "cell_type": "code",
   "execution_count": null,
   "metadata": {
    "collapsed": false
   },
   "outputs": [],
   "source": [
    "columns = ['name', 'sex', 'births'] # Determine column headers\n",
    "names = pd.DataFrame() #An empty dataframe\n",
    "years = range(1880, 2014) #Range of years available for baby names\n",
    "\n",
    "'''Create a function that will loop through all of the documents, combine add a column for the year\n",
    "and append them all into one large data frame'''\n",
    "\n",
    "for year in years:\n",
    "    path = r'C:\\Users\\bharder\\Dropbox\\Ben\\Python\\Babynames\\yob%d.txt' % year #for each year in years starting with 1880\n",
    "    frame = pd.read_csv(path, names=columns) # Read in the txt as a csv, changing the column names to the provided names\n",
    "    frame['year'] = year #Add a new column that is the year in question\n",
    "    names = names.append(frame, ignore_index=True) #Append them all together\n",
    "    \n",
    "# Concatenate everything into a single DataFrame\n",
    "#names = pd.concat(pieces, ignore_index=True)"
   ]
  },
  {
   "cell_type": "code",
   "execution_count": null,
   "metadata": {
    "collapsed": false
   },
   "outputs": [],
   "source": [
    "names.head()"
   ]
  },
  {
   "cell_type": "code",
   "execution_count": null,
   "metadata": {
    "collapsed": false
   },
   "outputs": [],
   "source": [
    "total_births = names.pivot_table('births', index ='year', columns ='sex', aggfunc=sum)\n",
    "\n",
    "#plot the total births by year\n",
    "total_births.plot(title='Total births by sex and year')"
   ]
  },
  {
   "cell_type": "code",
   "execution_count": null,
   "metadata": {
    "collapsed": false
   },
   "outputs": [],
   "source": [
    "#Create a function to get the top 1000 names for each sex/year combination\n",
    "def get_top1000(group):\n",
    "    return group.sort_values(by='births', ascending=False)[:1000]\n",
    "grouped = names.groupby(['year', 'sex'])\n",
    "top1000 = grouped.apply(get_top1000)\n",
    "#Get the most popular names for boys and girls\n",
    "boys = top1000[top1000.sex == 'M']\n",
    "girls = top1000[top1000.sex == 'F']\n",
    "#aggregate the data frame\n",
    "total_births = top1000.pivot_table('births', index ='year', columns='name',aggfunc=sum)"
   ]
  },
  {
   "cell_type": "code",
   "execution_count": null,
   "metadata": {
    "collapsed": false
   },
   "outputs": [],
   "source": [
    "#Create a subset a single name\n",
    "subset = total_births[[raw_input()]]\n",
    "subset.plot(title=\"Number of births per year\")"
   ]
  },
  {
   "cell_type": "code",
   "execution_count": null,
   "metadata": {
    "collapsed": false
   },
   "outputs": [],
   "source": [
    "#Create a subset of the family names\n",
    "subset = total_births[[raw_input(),raw_input(),raw_input()]]\n",
    "subset.plot(subplots=True, figsize=(12, 10), grid=False,title=\"Number of births per year\")"
   ]
  },
  {
   "cell_type": "code",
   "execution_count": null,
   "metadata": {
    "collapsed": false
   },
   "outputs": [],
   "source": [
    "top1000.head()"
   ]
  }
 ],
 "metadata": {
  "kernelspec": {
   "display_name": "Python 2",
   "language": "python",
   "name": "python2"
  },
  "language_info": {
   "codemirror_mode": {
    "name": "ipython",
    "version": 2
   },
   "file_extension": ".py",
   "mimetype": "text/x-python",
   "name": "python",
   "nbconvert_exporter": "python",
   "pygments_lexer": "ipython2",
   "version": "2.7.11"
  }
 },
 "nbformat": 4,
 "nbformat_minor": 0
}
